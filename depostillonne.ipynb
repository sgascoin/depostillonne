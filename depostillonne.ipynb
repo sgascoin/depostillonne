{
 "cells": [
  {
   "cell_type": "code",
   "execution_count": 1,
   "metadata": {},
   "outputs": [],
   "source": [
    "import re\n",
    "def depostillonne(phrase,semaine):\n",
    "    phrasePropre=''\n",
    "    for mot in phrase.split():\n",
    "        if semaine>=1:\n",
    "            # Suppression des occlusives labiales\n",
    "            # remplace P ou B par M \n",
    "            motPropre=re.sub('[pb]', 'm', mot, flags=re.I)\n",
    "        if semaine>=2:\n",
    "            # Suppression des occlusives dentales\n",
    "            # remplace D ou T par N mais on ajoute la condition : si la lettre suivante n'est pas S (pluriel)\n",
    "            motPropre=re.sub(r'([dt])([^s])', r'n\\2', motPropre, flags=re.I)\n",
    "        if semaine>=3:\n",
    "            # remplace K, QU ou G dur par GN \n",
    "            motPropre=re.sub('k|[g]u', 'gn', motPropre, flags=re.I)\n",
    "            motPropre=re.sub('qu', 'gn', motPropre, flags=re.I)\n",
    "            motPropre=re.sub(r'([g])([o])', r'\\0gn\\2', motPropre, flags=re.I)\n",
    "        if semaine>=4:\n",
    "            # remplace F, V, S, Z, J ou CH par R\n",
    "            motPropre=re.sub('[fvszj]|[c]h', 'r', motPropre, flags=re.I)\n",
    "        phrasePropre+=motPropre+' '\n",
    "    print(phrasePropre+'\\n')"
   ]
  },
  {
   "cell_type": "code",
   "execution_count": 3,
   "metadata": {},
   "outputs": [
    {
     "name": "stdout",
     "output_type": "stream",
     "text": [
      "Suite au discours du mremier ministre, marmi les conditions de réussite du déconfinement, chacun sinterroge sur un omjet qui mrend une immortance démesurée et qui deviendra dailleurs mientôt un accessoire de mode, un omjet qui suscite les convoitises et les arnaques : le masque. \n",
      "\n",
      "Suine au niscours nu mremier minisnre, marmi les conninions ne réussine nu néconfinemenn, chacun sinnerroge sur un omjet qui mrend une immornance némesurée et qui neviennra nailleurs miennôt un accessoire ne mone, un omjet qui suscine les convoinises et les arnaques : le masque. \n",
      "\n",
      "Suine au niscours nu mremier minisnre, marmi les conninions ne réussine nu néconfinemenn, chacun sinnerroge sur un omjet gni mrend une immornance némesurée et gni neviennra nailleurs miennôt un accessoire ne mone, un omjet gni suscine les convoinises et les arnagnes : le masgne. \n",
      "\n",
      "ruine au nircourr nu mremier minirnre, marmi ler conninionr ne réurrine nu néconrinemenn, racun rinnerroge rur un omret gni mrend une immornance némerurée et gni neriennra nailleurr miennôt un accerroire ne mone, un omret gni rurcine ler conroinirer et ler arnagner : le margne. \n",
      "\n"
     ]
    }
   ],
   "source": [
    "for semaine in range(1,5):\n",
    "    depostillonne(' Suite au discours du premier ministre, \\\n",
    "        parmi les conditions de réussite du déconfinement, \\\n",
    "        chacun s''interroge sur un objet qui prend une importance \\\n",
    "        démesurée et qui deviendra d''ailleurs bientôt un accessoire de mode, \\\n",
    "        un objet qui suscite les convoitises et les arnaques : le masque.',semaine)"
   ]
  },
  {
   "cell_type": "code",
   "execution_count": null,
   "metadata": {},
   "outputs": [],
   "source": []
  }
 ],
 "metadata": {
  "kernelspec": {
   "display_name": "Python 3",
   "language": "python",
   "name": "python3"
  },
  "language_info": {
   "codemirror_mode": {
    "name": "ipython",
    "version": 3
   },
   "file_extension": ".py",
   "mimetype": "text/x-python",
   "name": "python",
   "nbconvert_exporter": "python",
   "pygments_lexer": "ipython3",
   "version": "3.6.7"
  }
 },
 "nbformat": 4,
 "nbformat_minor": 2
}
