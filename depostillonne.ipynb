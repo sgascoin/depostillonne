{
 "cells": [
  {
   "cell_type": "code",
   "execution_count": 311,
   "metadata": {},
   "outputs": [],
   "source": [
    "import re\n",
    "def depostillonne(phrase,semaine):\n",
    "    phrasePropre=''\n",
    "    for mot in phrase.split():\n",
    "        if semaine>=1:\n",
    "            # Suppression des occlusives labiales\n",
    "            # remplace P ou B par M \n",
    "            motPropre=re.sub('[pb]', 'm', mot, flags=re.I)\n",
    "        if semaine>=2:\n",
    "            # Suppression des occlusives dentales\n",
    "            # remplace D ou T par N mais on ajoute la condition : si la lettre suivante n'est pas S (pluriel)\n",
    "            motPropre=re.sub(r'([dt])([^s])', r'\\0n\\2', motPropre, flags=re.I)\n",
    "        if semaine>=3:\n",
    "            # remplace K, QU ou G dur par GN \n",
    "            motPropre=re.sub('k|[g]u', 'gn', motPropre, flags=re.I)\n",
    "            motPropre=re.sub('qu', 'gn', motPropre, flags=re.I)\n",
    "            motPropre=re.sub(r'([g])([o])', r'\\0gn\\2', motPropre, flags=re.I)\n",
    "        if semaine>=4:\n",
    "            # remplace F, V, S, Z, J ou CH par R\n",
    "            motPropre=re.sub('[fvszj]|[c]h', 'r', motPropre, flags=re.I)\n",
    "        phrasePropre+=motPropre+' '\n",
    "    print(phrasePropre+'\\n')"
   ]
  },
  {
   "cell_type": "code",
   "execution_count": 313,
   "metadata": {},
   "outputs": [
    {
     "name": "stdout",
     "output_type": "stream",
     "text": [
      "Suite au discours du mremier ministre, marmi les conditions de réussite du déconfinement, chacun sinterroge sur un omjet qui mrend une immortance démesurée et qui deviendra dailleurs mientôt un accessoire de mode, un omjet qui suscite les convoitises et les arnaques : le masque. \n",
      "\n",
      "Sui\u0000ne au \u0000niscours \u0000nu mremier minis\u0000nre, marmi les con\u0000ni\u0000nions \u0000ne réussi\u0000ne \u0000nu \u0000néconfinemen\u0000n, chacun sin\u0000nerroge sur un omjet qui mrend une immor\u0000nance \u0000némesurée et qui \u0000nevien\u0000nra \u0000nailleurs mien\u0000nôt un accessoire \u0000ne mo\u0000ne, un omjet qui susci\u0000ne les convoi\u0000nises et les arnaques : le masque. \n",
      "\n",
      "Sui\u0000ne au \u0000niscours \u0000nu mremier minis\u0000nre, marmi les con\u0000ni\u0000nions \u0000ne réussi\u0000ne \u0000nu \u0000néconfinemen\u0000n, chacun sin\u0000nerroge sur un omjet gni mrend une immor\u0000nance \u0000némesurée et gni \u0000nevien\u0000nra \u0000nailleurs mien\u0000nôt un accessoire \u0000ne mo\u0000ne, un omjet gni susci\u0000ne les convoi\u0000nises et les arnagnes : le masgne. \n",
      "\n"
     ]
    }
   ],
   "source": [
    "for semaine in range(1,4):\n",
    "    depostillonne(' Suite au discours du premier ministre, \\\n",
    "        parmi les conditions de réussite du déconfinement, \\\n",
    "        chacun s''interroge sur un objet qui prend une importance \\\n",
    "        démesurée et qui deviendra d''ailleurs bientôt un accessoire de mode, \\\n",
    "        un objet qui suscite les convoitises et les arnaques : le masque.',semaine)"
   ]
  },
  {
   "cell_type": "code",
   "execution_count": null,
   "metadata": {},
   "outputs": [],
   "source": []
  }
 ],
 "metadata": {
  "kernelspec": {
   "display_name": "Python 3",
   "language": "python",
   "name": "python3"
  },
  "language_info": {
   "codemirror_mode": {
    "name": "ipython",
    "version": 3
   },
   "file_extension": ".py",
   "mimetype": "text/x-python",
   "name": "python",
   "nbconvert_exporter": "python",
   "pygments_lexer": "ipython3",
   "version": "3.6.7"
  }
 },
 "nbformat": 4,
 "nbformat_minor": 2
}
